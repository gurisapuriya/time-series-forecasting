{
 "cells": [
  {
   "cell_type": "code",
   "execution_count": 104,
   "metadata": {},
   "outputs": [
    {
     "name": "stdout",
     "output_type": "stream",
     "text": [
      "        id                                          timestamp  \\\n",
      "0  T000000  [1975-08-03 12:00:00, 1975-08-10 12:00:00, 197...   \n",
      "1  T000001  [1984-04-01 12:00:00, 1984-04-08 12:00:00, 198...   \n",
      "2  T000002  [1975-06-01 12:00:00, 1975-06-08 12:00:00, 197...   \n",
      "3  T000003  [1967-07-02 12:00:00, 1967-07-09 12:00:00, 196...   \n",
      "4  T000004  [1986-08-03 12:00:00, 1986-08-10 12:00:00, 198...   \n",
      "\n",
      "                                              target category  \n",
      "0  [1089.2, 1078.91, 1079.88, 1063.58, 1060.61, 1...    Other  \n",
      "1  [195.928, 194.796, 192.71, 190.288, 188.77, 18...    Other  \n",
      "2  [258.7, 259.8, 260.2, 260.8, 261.1, 263.1, 264...    Other  \n",
      "3  [3460.0, 3340.0, 2770.0, 2520.0, 2740.0, 2760....    Other  \n",
      "4  [4696.0, 4765.0, 4144.0, 3945.0, 4733.0, 4330....    Other  \n"
     ]
    }
   ],
   "source": [
    "from datasets import load_dataset\n",
    "import pandas as pd\n",
    "dataset = load_dataset(\"autogluon/chronos_datasets\", \"m4_weekly\")\n",
    "df = pd.DataFrame(dataset['train'])\n",
    "print(df.head())"
   ]
  },
  {
   "cell_type": "code",
   "execution_count": 105,
   "metadata": {},
   "outputs": [
    {
     "name": "stdout",
     "output_type": "stream",
     "text": [
      "shape of df: (359, 4)\n"
     ]
    }
   ],
   "source": [
    "print(f\"shape of df: {df.shape}\")"
   ]
  },
  {
   "cell_type": "code",
   "execution_count": 106,
   "metadata": {},
   "outputs": [
    {
     "name": "stdout",
     "output_type": "stream",
     "text": [
      "columns of df: ['id', 'timestamp', 'target', 'category']\n"
     ]
    }
   ],
   "source": [
    "print(f\"columns of df: {df.columns.to_list()}\")"
   ]
  },
  {
   "cell_type": "code",
   "execution_count": 107,
   "metadata": {},
   "outputs": [
    {
     "name": "stdout",
     "output_type": "stream",
     "text": [
      "data types: id           object\n",
      "timestamp    object\n",
      "target       object\n",
      "category     object\n",
      "dtype: object\n"
     ]
    }
   ],
   "source": [
    "print(f\"data types: {df.dtypes}\")"
   ]
  },
  {
   "cell_type": "code",
   "execution_count": 108,
   "metadata": {},
   "outputs": [
    {
     "name": "stdout",
     "output_type": "stream",
     "text": [
      "missing values :\n",
      "id           0\n",
      "timestamp    0\n",
      "target       0\n",
      "category     0\n",
      "dtype: int64\n"
     ]
    }
   ],
   "source": [
    "print(f\"missing values :\\n{df.isnull().sum()}\")"
   ]
  },
  {
   "cell_type": "code",
   "execution_count": 109,
   "metadata": {},
   "outputs": [
    {
     "data": {
      "text/html": [
       "<div>\n",
       "<style scoped>\n",
       "    .dataframe tbody tr th:only-of-type {\n",
       "        vertical-align: middle;\n",
       "    }\n",
       "\n",
       "    .dataframe tbody tr th {\n",
       "        vertical-align: top;\n",
       "    }\n",
       "\n",
       "    .dataframe thead th {\n",
       "        text-align: right;\n",
       "    }\n",
       "</style>\n",
       "<table border=\"1\" class=\"dataframe\">\n",
       "  <thead>\n",
       "    <tr style=\"text-align: right;\">\n",
       "      <th></th>\n",
       "      <th>id</th>\n",
       "      <th>timestamp</th>\n",
       "      <th>target</th>\n",
       "      <th>category</th>\n",
       "    </tr>\n",
       "  </thead>\n",
       "  <tbody>\n",
       "    <tr>\n",
       "      <th>0</th>\n",
       "      <td>T000000</td>\n",
       "      <td>1975-08-03 12:00:00</td>\n",
       "      <td>1089.20</td>\n",
       "      <td>Other</td>\n",
       "    </tr>\n",
       "    <tr>\n",
       "      <th>0</th>\n",
       "      <td>T000000</td>\n",
       "      <td>1975-08-10 12:00:00</td>\n",
       "      <td>1078.91</td>\n",
       "      <td>Other</td>\n",
       "    </tr>\n",
       "    <tr>\n",
       "      <th>0</th>\n",
       "      <td>T000000</td>\n",
       "      <td>1975-08-17 12:00:00</td>\n",
       "      <td>1079.88</td>\n",
       "      <td>Other</td>\n",
       "    </tr>\n",
       "    <tr>\n",
       "      <th>0</th>\n",
       "      <td>T000000</td>\n",
       "      <td>1975-08-24 12:00:00</td>\n",
       "      <td>1063.58</td>\n",
       "      <td>Other</td>\n",
       "    </tr>\n",
       "    <tr>\n",
       "      <th>0</th>\n",
       "      <td>T000000</td>\n",
       "      <td>1975-08-31 12:00:00</td>\n",
       "      <td>1060.61</td>\n",
       "      <td>Other</td>\n",
       "    </tr>\n",
       "    <tr>\n",
       "      <th>...</th>\n",
       "      <td>...</td>\n",
       "      <td>...</td>\n",
       "      <td>...</td>\n",
       "      <td>...</td>\n",
       "    </tr>\n",
       "    <tr>\n",
       "      <th>358</th>\n",
       "      <td>T000358</td>\n",
       "      <td>2017-09-10 12:00:00</td>\n",
       "      <td>3386.00</td>\n",
       "      <td>Micro</td>\n",
       "    </tr>\n",
       "    <tr>\n",
       "      <th>358</th>\n",
       "      <td>T000358</td>\n",
       "      <td>2017-09-17 12:00:00</td>\n",
       "      <td>3627.00</td>\n",
       "      <td>Micro</td>\n",
       "    </tr>\n",
       "    <tr>\n",
       "      <th>358</th>\n",
       "      <td>T000358</td>\n",
       "      <td>2017-09-24 12:00:00</td>\n",
       "      <td>3299.00</td>\n",
       "      <td>Micro</td>\n",
       "    </tr>\n",
       "    <tr>\n",
       "      <th>358</th>\n",
       "      <td>T000358</td>\n",
       "      <td>2017-10-01 12:00:00</td>\n",
       "      <td>3743.00</td>\n",
       "      <td>Micro</td>\n",
       "    </tr>\n",
       "    <tr>\n",
       "      <th>358</th>\n",
       "      <td>T000358</td>\n",
       "      <td>2017-10-08 12:00:00</td>\n",
       "      <td>3965.00</td>\n",
       "      <td>Micro</td>\n",
       "    </tr>\n",
       "  </tbody>\n",
       "</table>\n",
       "<p>371579 rows × 4 columns</p>\n",
       "</div>"
      ],
      "text/plain": [
       "          id           timestamp   target category\n",
       "0    T000000 1975-08-03 12:00:00  1089.20    Other\n",
       "0    T000000 1975-08-10 12:00:00  1078.91    Other\n",
       "0    T000000 1975-08-17 12:00:00  1079.88    Other\n",
       "0    T000000 1975-08-24 12:00:00  1063.58    Other\n",
       "0    T000000 1975-08-31 12:00:00  1060.61    Other\n",
       "..       ...                 ...      ...      ...\n",
       "358  T000358 2017-09-10 12:00:00  3386.00    Micro\n",
       "358  T000358 2017-09-17 12:00:00  3627.00    Micro\n",
       "358  T000358 2017-09-24 12:00:00  3299.00    Micro\n",
       "358  T000358 2017-10-01 12:00:00  3743.00    Micro\n",
       "358  T000358 2017-10-08 12:00:00  3965.00    Micro\n",
       "\n",
       "[371579 rows x 4 columns]"
      ]
     },
     "execution_count": 109,
     "metadata": {},
     "output_type": "execute_result"
    }
   ],
   "source": [
    "#converting to long format\n",
    "import datasets\n",
    "\n",
    "def to_pandas(ds: datasets.Dataset) -> \"pd.DataFrame\":\n",
    "    \"\"\"Convert dataset to long data frame format.\"\"\"\n",
    "    sequence_columns = [col for col in ds.features if isinstance(ds.features[col], datasets.Sequence)]\n",
    "    return ds.to_pandas().explode(sequence_columns).infer_objects()\n",
    "\n",
    "data = to_pandas(dataset['train'])\n",
    "data"
   ]
  },
  {
   "cell_type": "code",
   "execution_count": 110,
   "metadata": {},
   "outputs": [],
   "source": [
    "data.to_csv(\"e:/proj/m4_weekly_long.csv\", index=False)"
   ]
  },
  {
   "cell_type": "code",
   "execution_count": 111,
   "metadata": {},
   "outputs": [
    {
     "data": {
      "text/plain": [
       "<Axes: >"
      ]
     },
     "execution_count": 111,
     "metadata": {},
     "output_type": "execute_result"
    },
    {
     "data": {
      "image/png": "[encoded data removed]",
      "text/plain": [
       "<Figure size 640x480 with 1 Axes>"
      ]
     },
     "metadata": {},
     "output_type": "display_data"
    }
   ],
   "source": [
    "data.plot()"
   ]
  },
  {
   "cell_type": "code",
   "execution_count": 112,
   "metadata": {},
   "outputs": [],
   "source": [
    "# Expected columns: series identifier, time index, value\n",
    "possible_id_cols = ['item_id', 'series_id', 'id']\n",
    "possible_time_cols = ['time_idx', 'timestamp', 'time', 'index']\n",
    "possible_value_cols = ['value', 'target']"
   ]
  },
  {
   "cell_type": "code",
   "execution_count": 113,
   "metadata": {},
   "outputs": [],
   "source": [
    "# Find actual column names\n",
    "id_col = next((col for col in possible_id_cols if col in data.columns), None)\n",
    "time_col = next((col for col in possible_time_cols if col in data.columns), None)\n",
    "value_col = next((col for col in possible_value_cols if col in data.columns), None)\n",
    "\n",
    "if id_col is None:\n",
    "    print(\"Warning: No series identifier found. Assuming single series.\")\n",
    "    data['item_id'] = 'single_series'\n",
    "    id_col = 'item_id'\n",
    "if time_col is None:\n",
    "    print(\"Warning: No time column found. Adding time_idx.\")\n",
    "    data['time_idx'] = range(len(data))\n",
    "    time_col = 'time_idx'\n",
    "if value_col is None:\n",
    "    raise ValueError(\"No value column found. Please check the dataset.\")"
   ]
  },
  {
   "cell_type": "code",
   "execution_count": 114,
   "metadata": {},
   "outputs": [
    {
     "name": "stdout",
     "output_type": "stream",
     "text": [
      "Standardized data. Shape: (371579, 3)\n",
      "   item_id            time_idx    value\n",
      "0  T000000 1975-08-03 12:00:00  1089.20\n",
      "0  T000000 1975-08-10 12:00:00  1078.91\n",
      "0  T000000 1975-08-17 12:00:00  1079.88\n",
      "0  T000000 1975-08-24 12:00:00  1063.58\n",
      "0  T000000 1975-08-31 12:00:00  1060.61\n"
     ]
    }
   ],
   "source": [
    "# Rename to standard names\n",
    "data = data.rename(columns={id_col: 'item_id', time_col: 'time_idx', value_col: 'value'})\n",
    "data = data[['item_id', 'time_idx', 'value']].dropna()\n",
    "print(\"Standardized data. Shape:\", data.shape)\n",
    "print(data.head())"
   ]
  },
  {
   "cell_type": "code",
   "execution_count": 151,
   "metadata": {},
   "outputs": [
    {
     "name": "stdout",
     "output_type": "stream",
     "text": [
      "Adding features...\n",
      "Data range: count    370143.000000\n",
      "mean       3839.453968\n",
      "std        3546.091004\n",
      "min         104.690000\n",
      "25%        1480.002500\n",
      "50%        2690.500000\n",
      "75%        5080.000000\n",
      "max       51410.000000\n",
      "Name: value, dtype: float64\n"
     ]
    }
   ],
   "source": [
    "# Enhanced feature engineering\n",
    "def create_features(df, group_col='item_id', value_col='value'):\n",
    "    df = df.copy()\n",
    "    for lag in [1, 2, 3, 4]:\n",
    "        df[f'lag_{lag}'] = df.groupby(group_col)[value_col].shift(lag)\n",
    "    df['rolling_mean_4'] = df.groupby(group_col)[value_col].rolling(window=4, min_periods=1).mean().reset_index(level=0, drop=True)\n",
    "    df['rolling_std_4'] = df.groupby(group_col)[value_col].rolling(window=4, min_periods=1).std().reset_index(level=0, drop=True)\n",
    "    df['trend'] = df.groupby(group_col)[value_col].cumcount()  # Simple trend feature\n",
    "    return df.dropna()\n",
    "\n",
    "print(\"Adding features...\")\n",
    "df_features = create_features(data)\n",
    "print(\"Data range:\", df_features['value'].describe())\n",
    "feature_cols = ['lag_1', 'lag_2', 'lag_3', 'lag_4', 'rolling_mean_4', 'rolling_std_4', 'trend']\n"
   ]
  },
  {
   "cell_type": "code",
   "execution_count": 152,
   "metadata": {},
   "outputs": [
    {
     "data": {
      "text/html": [
       "<div>\n",
       "<style scoped>\n",
       "    .dataframe tbody tr th:only-of-type {\n",
       "        vertical-align: middle;\n",
       "    }\n",
       "\n",
       "    .dataframe tbody tr th {\n",
       "        vertical-align: top;\n",
       "    }\n",
       "\n",
       "    .dataframe thead th {\n",
       "        text-align: right;\n",
       "    }\n",
       "</style>\n",
       "<table border=\"1\" class=\"dataframe\">\n",
       "  <thead>\n",
       "    <tr style=\"text-align: right;\">\n",
       "      <th></th>\n",
       "      <th>item_id</th>\n",
       "      <th>time_idx</th>\n",
       "      <th>value</th>\n",
       "      <th>lag_1</th>\n",
       "      <th>lag_2</th>\n",
       "      <th>lag_3</th>\n",
       "      <th>lag_4</th>\n",
       "      <th>rolling_mean_4</th>\n",
       "      <th>rolling_std_4</th>\n",
       "      <th>trend</th>\n",
       "    </tr>\n",
       "  </thead>\n",
       "  <tbody>\n",
       "    <tr>\n",
       "      <th>0</th>\n",
       "      <td>T000000</td>\n",
       "      <td>1975-08-31 12:00:00</td>\n",
       "      <td>1060.61</td>\n",
       "      <td>1063.58</td>\n",
       "      <td>1079.88</td>\n",
       "      <td>1078.91</td>\n",
       "      <td>1089.20</td>\n",
       "      <td>1070.7450</td>\n",
       "      <td>10.069275</td>\n",
       "      <td>4</td>\n",
       "    </tr>\n",
       "    <tr>\n",
       "      <th>0</th>\n",
       "      <td>T000000</td>\n",
       "      <td>1975-09-07 12:00:00</td>\n",
       "      <td>1056.93</td>\n",
       "      <td>1060.61</td>\n",
       "      <td>1063.58</td>\n",
       "      <td>1079.88</td>\n",
       "      <td>1078.91</td>\n",
       "      <td>1065.2500</td>\n",
       "      <td>10.125509</td>\n",
       "      <td>5</td>\n",
       "    </tr>\n",
       "    <tr>\n",
       "      <th>0</th>\n",
       "      <td>T000000</td>\n",
       "      <td>1975-09-14 12:00:00</td>\n",
       "      <td>1056.63</td>\n",
       "      <td>1056.93</td>\n",
       "      <td>1060.61</td>\n",
       "      <td>1063.58</td>\n",
       "      <td>1079.88</td>\n",
       "      <td>1059.4375</td>\n",
       "      <td>3.301751</td>\n",
       "      <td>6</td>\n",
       "    </tr>\n",
       "    <tr>\n",
       "      <th>0</th>\n",
       "      <td>T000000</td>\n",
       "      <td>1975-09-21 12:00:00</td>\n",
       "      <td>1049.51</td>\n",
       "      <td>1056.63</td>\n",
       "      <td>1056.93</td>\n",
       "      <td>1060.61</td>\n",
       "      <td>1063.58</td>\n",
       "      <td>1055.9200</td>\n",
       "      <td>4.640704</td>\n",
       "      <td>7</td>\n",
       "    </tr>\n",
       "    <tr>\n",
       "      <th>0</th>\n",
       "      <td>T000000</td>\n",
       "      <td>1975-09-28 12:00:00</td>\n",
       "      <td>1049.32</td>\n",
       "      <td>1049.51</td>\n",
       "      <td>1056.63</td>\n",
       "      <td>1056.93</td>\n",
       "      <td>1060.61</td>\n",
       "      <td>1053.0975</td>\n",
       "      <td>4.254655</td>\n",
       "      <td>8</td>\n",
       "    </tr>\n",
       "  </tbody>\n",
       "</table>\n",
       "</div>"
      ],
      "text/plain": [
       "   item_id            time_idx    value    lag_1    lag_2    lag_3    lag_4  \\\n",
       "0  T000000 1975-08-31 12:00:00  1060.61  1063.58  1079.88  1078.91  1089.20   \n",
       "0  T000000 1975-09-07 12:00:00  1056.93  1060.61  1063.58  1079.88  1078.91   \n",
       "0  T000000 1975-09-14 12:00:00  1056.63  1056.93  1060.61  1063.58  1079.88   \n",
       "0  T000000 1975-09-21 12:00:00  1049.51  1056.63  1056.93  1060.61  1063.58   \n",
       "0  T000000 1975-09-28 12:00:00  1049.32  1049.51  1056.63  1056.93  1060.61   \n",
       "\n",
       "   rolling_mean_4  rolling_std_4  trend  \n",
       "0       1070.7450      10.069275      4  \n",
       "0       1065.2500      10.125509      5  \n",
       "0       1059.4375       3.301751      6  \n",
       "0       1055.9200       4.640704      7  \n",
       "0       1053.0975       4.254655      8  "
      ]
     },
     "execution_count": 152,
     "metadata": {},
     "output_type": "execute_result"
    }
   ],
   "source": [
    "df_features.head()"
   ]
  },
  {
   "cell_type": "code",
   "execution_count": 153,
   "metadata": {},
   "outputs": [],
   "source": [
    "from sklearn.model_selection import TimeSeriesSplit\n",
    "# --- Time Series Forecasting ---\n",
    "X = df_features[feature_cols]\n",
    "y = df_features['value']\n",
    "tscv = TimeSeriesSplit(n_splits=5)"
   ]
  },
  {
   "cell_type": "code",
   "execution_count": null,
   "metadata": {},
   "outputs": [
    {
     "name": "stdout",
     "output_type": "stream",
     "text": [
      "Running cross-validation on full dataset...\n",
      "Fold 1: RMSE=711.6689, MAE=168.0979, sMAPE=4.9345\n",
      "Fold 2: RMSE=139.5088, MAE=64.4068, sMAPE=2.4114\n",
      "Fold 3: RMSE=164.7294, MAE=61.0930, sMAPE=2.8047\n",
      "Fold 4: RMSE=348.1132, MAE=146.8708, sMAPE=4.3978\n",
      "Fold 5: RMSE=547.0647, MAE=155.7252, sMAPE=4.7107\n",
      "\n",
      "=== Cross-Validation Results ===\n",
      "Average RMSE: 382.2170 (±220.4924)\n",
      "Average MAE: 119.2387 (±46.6250)\n",
      "Average sMAPE: 3.8518 (±1.0372)\n"
     ]
    }
   ],
   "source": [
    "from xgboost import XGBRegressor\n",
    "from sklearn.metrics import mean_squared_error, mean_absolute_error\n",
    "import numpy as np\n",
    "import joblib\n",
    "import plotly.graph_objects as go\n",
    "\n",
    "rmse_scores, mae_scores, smape_scores = [], [], []\n",
    "last_fold_data = None\n",
    "\n",
    "print(\"Running cross-validation on full dataset...\")\n",
    "for fold, (train_idx, test_idx) in enumerate(tscv.split(X)):\n",
    "    X_train, X_test = X.iloc[train_idx], X.iloc[test_idx]\n",
    "    y_train, y_test = y.iloc[train_idx], y.iloc[test_idx]\n",
    "    \n",
    "    model = XGBRegressor(\n",
    "        n_estimators=100,      # Reduced for speed\n",
    "        learning_rate=0.05,    # Slower learning\n",
    "        max_depth=5,           # Reduced depth\n",
    "        subsample=0.8,\n",
    "        colsample_bytree=0.8,\n",
    "        random_state=42,\n",
    "    )\n",
    "    model.fit(X_train, y_train)\n",
    "    \n",
    "    y_pred = model.predict(X_test)\n",
    "    \n",
    "    rmse = np.sqrt(mean_squared_error(y_test, y_pred))\n",
    "    mae = mean_absolute_error(y_test, y_pred)\n",
    "    smape = 200 * np.mean(np.abs(y_pred - y_test) / (np.abs(y_test) + np.abs(y_pred)))\n",
    "    \n",
    "    rmse_scores.append(rmse)\n",
    "    mae_scores.append(mae)\n",
    "    smape_scores.append(smape)\n",
    "    \n",
    "    print(f\"Fold {fold + 1}: RMSE={rmse:.4f}, MAE={mae:.4f}, sMAPE={smape:.4f}\")\n",
    "\n",
    "# --- Results ---\n",
    "print(\"\\n=== Cross-Validation Results ===\")\n",
    "print(f\"Average RMSE: {np.mean(rmse_scores):.4f} (±{np.std(rmse_scores):.4f})\")\n",
    "print(f\"Average MAE: {np.mean(mae_scores):.4f} (±{np.std(mae_scores):.4f})\")\n",
    "print(f\"Average sMAPE: {np.mean(smape_scores):.4f} (±{np.std(smape_scores):.4f})\")"
   ]
  },
  {
   "cell_type": "code",
   "execution_count": 155,
   "metadata": {},
   "outputs": [],
   "source": [
    "# Standardize metrics to [0, 1]\n",
    "def standardize_metrics(scores):\n",
    "    min_score, max_score = min(scores), max(scores)\n",
    "    if min_score == max_score:  # Avoid division by zero\n",
    "        return [0.5] * len(scores) if min_score != 0 else [0] * len(scores)\n",
    "    return [(s - min_score) / (max_score - min_score) for s in scores]\n",
    "\n",
    "rmse_std = standardize_metrics(rmse_scores)\n",
    "mae_std = standardize_metrics(mae_scores)\n",
    "smape_std = standardize_metrics(smape_scores)"
   ]
  },
  {
   "cell_type": "code",
   "execution_count": 156,
   "metadata": {},
   "outputs": [
    {
     "name": "stdout",
     "output_type": "stream",
     "text": [
      "\n",
      "Standardized Metrics (0 to 1):\n",
      "Fold 1: RMSE_std=1.0000, MAE_std=1.0000, sMAPE_std=1.0000\n",
      "Fold 2: RMSE_std=0.0000, MAE_std=0.0310, sMAPE_std=0.0000\n",
      "Fold 3: RMSE_std=0.0441, MAE_std=0.0000, sMAPE_std=0.1559\n",
      "Fold 4: RMSE_std=0.3646, MAE_std=0.8016, sMAPE_std=0.7873\n",
      "Fold 5: RMSE_std=0.7123, MAE_std=0.8844, sMAPE_std=0.9113\n",
      "Average RMSE_std: 0.4242\n",
      "Average MAE_std: 0.5434\n",
      "Average sMAPE_std: 0.5709\n"
     ]
    }
   ],
   "source": [
    "print(\"\\nStandardized Metrics (0 to 1):\")\n",
    "for fold in range(len(rmse_scores)):\n",
    "    print(f\"Fold {fold + 1}: RMSE_std={rmse_std[fold]:.4f}, MAE_std={mae_std[fold]:.4f}, sMAPE_std={smape_std[fold]:.4f}\")\n",
    "print(f\"Average RMSE_std: {np.mean(rmse_std):.4f}\")\n",
    "print(f\"Average MAE_std: {np.mean(mae_std):.4f}\")\n",
    "print(f\"Average sMAPE_std: {np.mean(smape_std):.4f}\")"
   ]
  },
  {
   "cell_type": "code",
   "execution_count": 164,
   "metadata": {},
   "outputs": [
    {
     "data": {
      "image/png": "[encoded data removed]",
      "text/plain": [
       "<Figure size 1200x600 with 1 Axes>"
      ]
     },
     "metadata": {},
     "output_type": "display_data"
    }
   ],
   "source": [
    "import matplotlib.pyplot as plt\n",
    "import seaborn as sns \n",
    "\n",
    "# Residual Plot\n",
    "residuals = y_test.values - y_pred\n",
    "plt.figure(figsize=(12, 6))\n",
    "plt.scatter(range(len(residuals[:100])), residuals[:100], color='red', alpha=0.5)\n",
    "plt.axhline(0, color='black', linestyle='--')\n",
    "plt.title('Residuals (Last Fold, First 100 Points)')\n",
    "plt.xlabel('Time Index')\n",
    "plt.ylabel('Residual (Actual - Predicted)')\n",
    "plt.show()\n",
    "plt.savefig('residuals.png')\n",
    "plt.close()"
   ]
  },
  {
   "cell_type": "code",
   "execution_count": null,
   "metadata": {},
   "outputs": [
    {
     "data": {
      "image/png": "[encoded data removed]",
      "text/plain": [
       "<Figure size 1200x600 with 1 Axes>"
      ]
     },
     "metadata": {},
     "output_type": "display_data"
    }
   ],
   "source": [
    "#sample time series\n",
    "sample_items = data['item_id'].unique()[:3]\n",
    "plt.figure(figsize=(12, 6))\n",
    "for item in sample_items:\n",
    "    item_data = data[data['item_id'] == item]\n",
    "    plt.plot(item_data['time_idx'], item_data['value'], label=item)\n",
    "plt.title('Sample Time Series (First 3 Items)')\n",
    "plt.xlabel('Time Index')\n",
    "plt.ylabel('Value')\n",
    "plt.legend()\n",
    "plt.show()\n",
    "plt.close()"
   ]
  },
  {
   "cell_type": "code",
   "execution_count": null,
   "metadata": {},
   "outputs": [
    {
     "data": {
      "image/png": "[encoded data removed]",
      "text/plain": [
       "<Figure size 1200x600 with 1 Axes>"
      ]
     },
     "metadata": {},
     "output_type": "display_data"
    }
   ],
   "source": [
    "# Error Metrics Across Folds\n",
    "metrics_df = pd.DataFrame({\n",
    "    'Fold': [f'Fold {i+1}' for i in range(5)],\n",
    "    'RMSE': rmse_scores,\n",
    "    'MAE': mae_scores,\n",
    "    'sMAPE': smape_scores\n",
    "})\n",
    "plt.figure(figsize=(12, 6))\n",
    "sns.barplot(data=metrics_df.melt(id_vars=['Fold'], value_vars=['RMSE', 'MAE', 'sMAPE']), \n",
    "            x='Fold', y='value', hue='variable')\n",
    "plt.title('Error Metrics Across Folds')\n",
    "plt.ylabel('Metric Value')\n",
    "plt.show()\n",
    "plt.close()"
   ]
  },
  {
   "cell_type": "code",
   "execution_count": null,
   "metadata": {},
   "outputs": [
    {
     "data": {
      "application/vnd.plotly.v1+json": {
       "config": {
        "plotlyServerURL": "https://plot.ly"
       },
       "data": [
        {
         "hovertemplate": "variable=Actual<br>Time Index=%{x}<br>value=%{y}<extra></extra>",
         "legendgroup": "Actual",
         "line": {
          "color": "#636efa",
          "dash": "solid"
         },
         "marker": {
          "symbol": "circle"
         },
         "mode": "lines",
         "name": "Actual",
         "orientation": "v",
         "showlegend": true,
         "type": "scatter",
         "x": {
          "bdata": "AAECAwQFBgcICQoLDA0ODxAREhMUFRYXGBkaGxwdHh8gISIjJCUmJygpKissLS4vMDEyMzQ1Njc4OTo7PD0+P0BBQkNERUZHSElKS0xNTk9QUVJTVFVWV1hZWltcXV5fYGFiYw==",
          "dtype": "i1"
         },
         "xaxis": "x",
         "y": {
          "bdata": "mpmZmZmbrkCamZmZmZGuQJqZmZmZj65AzczMzMwarEAAAAAAAGCqQAAAAAAAialAMzMzMzPEqUCamZmZmeunQDMzMzMzP6dAZmZmZmakp0DNzMzMzACoQJqZmZmZ6aVAMzMzMzPKqUAAAAAAALGlQAAAAAAA16RAmpmZmZkVpUAzMzMzM1SkQM3MzMzM/qNAAAAAAADwpEAzMzMzM1KmQDMzMzMzUqVAZmZmZmbZpEAzMzMzM8ukQJqZmZmZVqZAmpmZmZmaq0DNzMzMzI+nQDMzMzMz4qZAMzMzMzMqp0BmZmZmZselQJqZmZmZG6ZAAAAAAAAFpUDNzMzMzGikQAAAAAAAc6JAMzMzMzP0pEAAAAAAAJikQGZmZmZmLqNAZmZmZmbqokCamZmZmYijQGZmZmZmSKNAAAAAAACRo0AzMzMzM1mkQDMzMzMz/aNAAAAAAACupEDNzMzMzCGlQDMzMzMzSaNAmpmZmZkSqkCamZmZmUioQGZmZmZm06ZAMzMzMzN6pUBmZmZm5rmwQDMzMzMzCrNAMzMzMzMFrkBmZmZmZuyrQJqZmZmZQalAZmZmZmZlqUBmZmZmZouoQJqZmZmZwKZAZmZmZmaLpkAAAAAAAAWmQGZmZmZmIKVAmpmZmZnjo0CamZmZmfuiQJqZmZmZmaJAAAAAAABGokAAAAAAABeiQM3MzMzMJaFAzczMzMz7oECamZmZmfqgQJqZmZmZEaFAZmZmZmZOoUAAAAAAADWhQDMzMzMzRKJAzczMzMzYokAzMzMzM46iQAAAAAAAiqJAzczMzMzZoUAAAAAAAE6nQAAAAAAAgKVAZmZmZmY2o0BmZmZmZt6iQM3MzMzMpaJAzczMzMxLo0AzMzMzMxeiQM3MzMzMbqFAmpmZmZlroECamZmZmcKhQGZmZmZmVKFAmpmZmZl6oEAzMzMzM56gQDMzMzMzRqBAAAAAAABgoEAAAAAAAJmgQJqZmZmZLKBAzczMzMxuoECamZmZmaOgQDMzMzMzt6FAMzMzMzOAoEDNzMzMzJykQM3MzMzMy6NAAAAAAAACo0A=",
          "dtype": "f8"
         },
         "yaxis": "y"
        },
        {
         "hovertemplate": "variable=Predicted<br>Time Index=%{x}<br>value=%{y}<extra></extra>",
         "legendgroup": "Predicted",
         "line": {
          "color": "#EF553B",
          "dash": "solid"
         },
         "marker": {
          "symbol": "circle"
         },
         "mode": "lines",
         "name": "Predicted",
         "orientation": "v",
         "showlegend": true,
         "type": "scatter",
         "x": {
          "bdata": "AAECAwQFBgcICQoLDA0ODxAREhMUFRYXGBkaGxwdHh8gISIjJCUmJygpKissLS4vMDEyMzQ1Njc4OTo7PD0+P0BBQkNERUZHSElKS0xNTk9QUVJTVFVWV1hZWltcXV5fYGFiYw==",
          "dtype": "i1"
         },
         "xaxis": "x",
         "y": {
          "bdata": "AAAAACtfsEAAAACgReGvQAAAACDhLa9AAAAAAH4PrkAAAAAgOLGsQAAAAAAoTatAAAAAAExLqkAAAAAgjWWpQAAAAIAJqahAAAAAoNscqEAAAADguuKnQAAAACB0bqdAAAAAwE9Ep0AAAAAASOqnQAAAAEDFOKZAAAAA4CenpUAAAADgKRWlQAAAAOBljqRAAAAA4GWOpEAAAACAeRalQAAAAEABlKVAAAAAQAdjpUAAAACAYGGlQAAAAIBgYaVAAAAAQFAup0AAAADg7EGoQAAAAICA76dAAAAAoH5jp0AAAAAAsTunQAAAAIDGVaZAAAAAoJLZpUAAAABAB2OlQAAAAEBtdqRAAAAA4K35o0AAAABg4s+kQAAAACC56qNAAAAAYJS6o0AAAADAUJCjQAAAAKAwY6NAAAAAQPhuo0AAAABAR7ajQAAAAGBD56NAAAAAQN09pEAAAABgea2kQAAAACD6SqRAAAAAAMSYpUAAAABAef6nQAAAAMBhfadAAAAA4AUqp0AAAABgBlypQAAAAOBns7BAAAAA4GUGsEAAAABg5QuvQAAAAGAB96xAAAAA4OSpqkAAAABAl2mpQAAAAIC0rqhAAAAAABqKp0AAAAAA9fCmQAAAAMATLqZAAAAAQAdjpUAAAABAbXakQAAAAEAYmqNAAAAAACzPokAAAADA2JWiQAAAAIAnLKJAAAAAQEaRoUAAAADAD1KhQAAAACAFSqFAAAAAIAVKoUAAAAAgBUqhQAAAACACb6FAAAAAICYRokAAAADgdmOiQAAAAKAVoqJAAAAAoBWiokAAAACg8YGjQAAAAIB7qqVAAAAAAJo1pEAAAACgjUWkQAAAAADgVaNAAAAAYF0bo0AAAADgityiQAAAAMC8W6JAAAAA4H6UoUAAAABAazWhQAAAAEDCWqFAAAAA4BgmoUAAAAAg6x2hQAAAAABhnaBAAAAAAPx2oEAAAABAj3agQAAAAMBohKBAAAAAAPx2oEAAAADAaISgQAAAAEATv6BAAAAA4KcOoUAAAACAVrChQAAAAOAT8KJAAAAA4OtWo0A=",
          "dtype": "f8"
         },
         "yaxis": "y"
        }
       ],
       "layout": {
        "legend": {
         "title": {
          "text": "variable"
         },
         "tracegroupgap": 0
        },
        "template": {
         "data": {
          "bar": [
           {
            "error_x": {
             "color": "#2a3f5f"
            },
            "error_y": {
             "color": "#2a3f5f"
            },
            "marker": {
             "line": {
              "color": "#E5ECF6",
              "width": 0.5
             },
             "pattern": {
              "fillmode": "overlay",
              "size": 10,
              "solidity": 0.2
             }
            },
            "type": "bar"
           }
          ],
          "barpolar": [
           {
            "marker": {
             "line": {
              "color": "#E5ECF6",
              "width": 0.5
             },
             "pattern": {
              "fillmode": "overlay",
              "size": 10,
              "solidity": 0.2
             }
            },
            "type": "barpolar"
           }
          ],
          "carpet": [
           {
            "aaxis": {
             "endlinecolor": "#2a3f5f",
             "gridcolor": "white",
             "linecolor": "white",
             "minorgridcolor": "white",
             "startlinecolor": "#2a3f5f"
            },
            "baxis": {
             "endlinecolor": "#2a3f5f",
             "gridcolor": "white",
             "linecolor": "white",
             "minorgridcolor": "white",
             "startlinecolor": "#2a3f5f"
            },
            "type": "carpet"
           }
          ],
          "choropleth": [
           {
            "colorbar": {
             "outlinewidth": 0,
             "ticks": ""
            },
            "type": "choropleth"
           }
          ],
          "contour": [
           {
            "colorbar": {
             "outlinewidth": 0,
             "ticks": ""
            },
            "colorscale": [
             [
              0,
              "#0d0887"
             ],
             [
              0.1111111111111111,
              "#46039f"
             ],
             [
              0.2222222222222222,
              "#7201a8"
             ],
             [
              0.3333333333333333,
              "#9c179e"
             ],
             [
              0.4444444444444444,
              "#bd3786"
             ],
             [
              0.5555555555555556,
              "#d8576b"
             ],
             [
              0.6666666666666666,
              "#ed7953"
             ],
             [
              0.7777777777777778,
              "#fb9f3a"
             ],
             [
              0.8888888888888888,
              "#fdca26"
             ],
             [
              1,
              "#f0f921"
             ]
            ],
            "type": "contour"
           }
          ],
          "contourcarpet": [
           {
            "colorbar": {
             "outlinewidth": 0,
             "ticks": ""
            },
            "type": "contourcarpet"
           }
          ],
          "heatmap": [
           {
            "colorbar": {
             "outlinewidth": 0,
             "ticks": ""
            },
            "colorscale": [
             [
              0,
              "#0d0887"
             ],
             [
              0.1111111111111111,
              "#46039f"
             ],
             [
              0.2222222222222222,
              "#7201a8"
             ],
             [
              0.3333333333333333,
              "#9c179e"
             ],
             [
              0.4444444444444444,
              "#bd3786"
             ],
             [
              0.5555555555555556,
              "#d8576b"
             ],
             [
              0.6666666666666666,
              "#ed7953"
             ],
             [
              0.7777777777777778,
              "#fb9f3a"
             ],
             [
              0.8888888888888888,
              "#fdca26"
             ],
             [
              1,
              "#f0f921"
             ]
            ],
            "type": "heatmap"
           }
          ],
          "histogram": [
           {
            "marker": {
             "pattern": {
              "fillmode": "overlay",
              "size": 10,
              "solidity": 0.2
             }
            },
            "type": "histogram"
           }
          ],
          "histogram2d": [
           {
            "colorbar": {
             "outlinewidth": 0,
             "ticks": ""
            },
            "colorscale": [
             [
              0,
              "#0d0887"
             ],
             [
              0.1111111111111111,
              "#46039f"
             ],
             [
              0.2222222222222222,
              "#7201a8"
             ],
             [
              0.3333333333333333,
              "#9c179e"
             ],
             [
              0.4444444444444444,
              "#bd3786"
             ],
             [
              0.5555555555555556,
              "#d8576b"
             ],
             [
              0.6666666666666666,
              "#ed7953"
             ],
             [
              0.7777777777777778,
              "#fb9f3a"
             ],
             [
              0.8888888888888888,
              "#fdca26"
             ],
             [
              1,
              "#f0f921"
             ]
            ],
            "type": "histogram2d"
           }
          ],
          "histogram2dcontour": [
           {
            "colorbar": {
             "outlinewidth": 0,
             "ticks": ""
            },
            "colorscale": [
             [
              0,
              "#0d0887"
             ],
             [
              0.1111111111111111,
              "#46039f"
             ],
             [
              0.2222222222222222,
              "#7201a8"
             ],
             [
              0.3333333333333333,
              "#9c179e"
             ],
             [
              0.4444444444444444,
              "#bd3786"
             ],
             [
              0.5555555555555556,
              "#d8576b"
             ],
             [
              0.6666666666666666,
              "#ed7953"
             ],
             [
              0.7777777777777778,
              "#fb9f3a"
             ],
             [
              0.8888888888888888,
              "#fdca26"
             ],
             [
              1,
              "#f0f921"
             ]
            ],
            "type": "histogram2dcontour"
           }
          ],
          "mesh3d": [
           {
            "colorbar": {
             "outlinewidth": 0,
             "ticks": ""
            },
            "type": "mesh3d"
           }
          ],
          "parcoords": [
           {
            "line": {
             "colorbar": {
              "outlinewidth": 0,
              "ticks": ""
             }
            },
            "type": "parcoords"
           }
          ],
          "pie": [
           {
            "automargin": true,
            "type": "pie"
           }
          ],
          "scatter": [
           {
            "fillpattern": {
             "fillmode": "overlay",
             "size": 10,
             "solidity": 0.2
            },
            "type": "scatter"
           }
          ],
          "scatter3d": [
           {
            "line": {
             "colorbar": {
              "outlinewidth": 0,
              "ticks": ""
             }
            },
            "marker": {
             "colorbar": {
              "outlinewidth": 0,
              "ticks": ""
             }
            },
            "type": "scatter3d"
           }
          ],
          "scattercarpet": [
           {
            "marker": {
             "colorbar": {
              "outlinewidth": 0,
              "ticks": ""
             }
            },
            "type": "scattercarpet"
           }
          ],
          "scattergeo": [
           {
            "marker": {
             "colorbar": {
              "outlinewidth": 0,
              "ticks": ""
             }
            },
            "type": "scattergeo"
           }
          ],
          "scattergl": [
           {
            "marker": {
             "colorbar": {
              "outlinewidth": 0,
              "ticks": ""
             }
            },
            "type": "scattergl"
           }
          ],
          "scattermap": [
           {
            "marker": {
             "colorbar": {
              "outlinewidth": 0,
              "ticks": ""
             }
            },
            "type": "scattermap"
           }
          ],
          "scattermapbox": [
           {
            "marker": {
             "colorbar": {
              "outlinewidth": 0,
              "ticks": ""
             }
            },
            "type": "scattermapbox"
           }
          ],
          "scatterpolar": [
           {
            "marker": {
             "colorbar": {
              "outlinewidth": 0,
              "ticks": ""
             }
            },
            "type": "scatterpolar"
           }
          ],
          "scatterpolargl": [
           {
            "marker": {
             "colorbar": {
              "outlinewidth": 0,
              "ticks": ""
             }
            },
            "type": "scatterpolargl"
           }
          ],
          "scatterternary": [
           {
            "marker": {
             "colorbar": {
              "outlinewidth": 0,
              "ticks": ""
             }
            },
            "type": "scatterternary"
           }
          ],
          "surface": [
           {
            "colorbar": {
             "outlinewidth": 0,
             "ticks": ""
            },
            "colorscale": [
             [
              0,
              "#0d0887"
             ],
             [
              0.1111111111111111,
              "#46039f"
             ],
             [
              0.2222222222222222,
              "#7201a8"
             ],
             [
              0.3333333333333333,
              "#9c179e"
             ],
             [
              0.4444444444444444,
              "#bd3786"
             ],
             [
              0.5555555555555556,
              "#d8576b"
             ],
             [
              0.6666666666666666,
              "#ed7953"
             ],
             [
              0.7777777777777778,
              "#fb9f3a"
             ],
             [
              0.8888888888888888,
              "#fdca26"
             ],
             [
              1,
              "#f0f921"
             ]
            ],
            "type": "surface"
           }
          ],
          "table": [
           {
            "cells": {
             "fill": {
              "color": "#EBF0F8"
             },
             "line": {
              "color": "white"
             }
            },
            "header": {
             "fill": {
              "color": "#C8D4E3"
             },
             "line": {
              "color": "white"
             }
            },
            "type": "table"
           }
          ]
         },
         "layout": {
          "annotationdefaults": {
           "arrowcolor": "#2a3f5f",
           "arrowhead": 0,
           "arrowwidth": 1
          },
          "autotypenumbers": "strict",
          "coloraxis": {
           "colorbar": {
            "outlinewidth": 0,
            "ticks": ""
           }
          },
          "colorscale": {
           "diverging": [
            [
             0,
             "#8e0152"
            ],
            [
             0.1,
             "#c51b7d"
            ],
            [
             0.2,
             "#de77ae"
            ],
            [
             0.3,
             "#f1b6da"
            ],
            [
             0.4,
             "#fde0ef"
            ],
            [
             0.5,
             "#f7f7f7"
            ],
            [
             0.6,
             "#e6f5d0"
            ],
            [
             0.7,
             "#b8e186"
            ],
            [
             0.8,
             "#7fbc41"
            ],
            [
             0.9,
             "#4d9221"
            ],
            [
             1,
             "#276419"
            ]
           ],
           "sequential": [
            [
             0,
             "#0d0887"
            ],
            [
             0.1111111111111111,
             "#46039f"
            ],
            [
             0.2222222222222222,
             "#7201a8"
            ],
            [
             0.3333333333333333,
             "#9c179e"
            ],
            [
             0.4444444444444444,
             "#bd3786"
            ],
            [
             0.5555555555555556,
             "#d8576b"
            ],
            [
             0.6666666666666666,
             "#ed7953"
            ],
            [
             0.7777777777777778,
             "#fb9f3a"
            ],
            [
             0.8888888888888888,
             "#fdca26"
            ],
            [
             1,
             "#f0f921"
            ]
           ],
           "sequentialminus": [
            [
             0,
             "#0d0887"
            ],
            [
             0.1111111111111111,
             "#46039f"
            ],
            [
             0.2222222222222222,
             "#7201a8"
            ],
            [
             0.3333333333333333,
             "#9c179e"
            ],
            [
             0.4444444444444444,
             "#bd3786"
            ],
            [
             0.5555555555555556,
             "#d8576b"
            ],
            [
             0.6666666666666666,
             "#ed7953"
            ],
            [
             0.7777777777777778,
             "#fb9f3a"
            ],
            [
             0.8888888888888888,
             "#fdca26"
            ],
            [
             1,
             "#f0f921"
            ]
           ]
          },
          "colorway": [
           "#636efa",
           "#EF553B",
           "#00cc96",
           "#ab63fa",
           "#FFA15A",
           "#19d3f3",
           "#FF6692",
           "#B6E880",
           "#FF97FF",
           "#FECB52"
          ],
          "font": {
           "color": "#2a3f5f"
          },
          "geo": {
           "bgcolor": "white",
           "lakecolor": "white",
           "landcolor": "#E5ECF6",
           "showlakes": true,
           "showland": true,
           "subunitcolor": "white"
          },
          "hoverlabel": {
           "align": "left"
          },
          "hovermode": "closest",
          "mapbox": {
           "style": "light"
          },
          "paper_bgcolor": "white",
          "plot_bgcolor": "#E5ECF6",
          "polar": {
           "angularaxis": {
            "gridcolor": "white",
            "linecolor": "white",
            "ticks": ""
           },
           "bgcolor": "#E5ECF6",
           "radialaxis": {
            "gridcolor": "white",
            "linecolor": "white",
            "ticks": ""
           }
          },
          "scene": {
           "xaxis": {
            "backgroundcolor": "#E5ECF6",
            "gridcolor": "white",
            "gridwidth": 2,
            "linecolor": "white",
            "showbackground": true,
            "ticks": "",
            "zerolinecolor": "white"
           },
           "yaxis": {
            "backgroundcolor": "#E5ECF6",
            "gridcolor": "white",
            "gridwidth": 2,
            "linecolor": "white",
            "showbackground": true,
            "ticks": "",
            "zerolinecolor": "white"
           },
           "zaxis": {
            "backgroundcolor": "#E5ECF6",
            "gridcolor": "white",
            "gridwidth": 2,
            "linecolor": "white",
            "showbackground": true,
            "ticks": "",
            "zerolinecolor": "white"
           }
          },
          "shapedefaults": {
           "line": {
            "color": "#2a3f5f"
           }
          },
          "ternary": {
           "aaxis": {
            "gridcolor": "white",
            "linecolor": "white",
            "ticks": ""
           },
           "baxis": {
            "gridcolor": "white",
            "linecolor": "white",
            "ticks": ""
           },
           "bgcolor": "#E5ECF6",
           "caxis": {
            "gridcolor": "white",
            "linecolor": "white",
            "ticks": ""
           }
          },
          "title": {
           "x": 0.05
          },
          "xaxis": {
           "automargin": true,
           "gridcolor": "white",
           "linecolor": "white",
           "ticks": "",
           "title": {
            "standoff": 15
           },
           "zerolinecolor": "white",
           "zerolinewidth": 2
          },
          "yaxis": {
           "automargin": true,
           "gridcolor": "white",
           "linecolor": "white",
           "ticks": "",
           "title": {
            "standoff": 15
           },
           "zerolinecolor": "white",
           "zerolinewidth": 2
          }
         }
        },
        "title": {
         "text": "Actual vs Predicted Values (Last Fold, First 100 Points)"
        },
        "xaxis": {
         "anchor": "y",
         "domain": [
          0,
          1
         ],
         "title": {
          "text": "Time Index"
         }
        },
        "yaxis": {
         "anchor": "x",
         "domain": [
          0,
          1
         ],
         "title": {
          "text": "Value"
         }
        }
       }
      }
     },
     "metadata": {},
     "output_type": "display_data"
    }
   ],
   "source": [
    "# --- Plotly Visualization ---\n",
    "# Interactive Actual vs Predicted\n",
    "import plotly.express as px\n",
    "plot_df = pd.DataFrame({\n",
    "    'Time Index': range(100),\n",
    "    'Actual': y_test.values[:100],\n",
    "    'Predicted': y_pred[:100]\n",
    "})\n",
    "fig = px.line(plot_df, x='Time Index', y=['Actual', 'Predicted'], \n",
    "              title='Actual vs Predicted Values (Last Fold, First 100 Points)')\n",
    "fig.update_layout(yaxis_title='Value')\n",
    "fig.show()"
   ]
  },
  {
   "cell_type": "code",
   "execution_count": 161,
   "metadata": {},
   "outputs": [
    {
     "name": "stderr",
     "output_type": "stream",
     "text": [
      "100%|===================| 369673/370143 [09:40<00:00]        "
     ]
    }
   ],
   "source": [
    "import shap\n",
    "explainer = shap.Explainer(model, X)\n",
    "shap_values = explainer(X)"
   ]
  },
  {
   "cell_type": "code",
   "execution_count": 162,
   "metadata": {},
   "outputs": [
    {
     "data": {
      "image/png": "[encoded data removed]",
      "text/plain": [
       "<Figure size 800x430 with 2 Axes>"
      ]
     },
     "metadata": {},
     "output_type": "display_data"
    }
   ],
   "source": [
    "shap.plots.beeswarm(shap_values)"
   ]
  },
  {
   "cell_type": "code",
   "execution_count": 163,
   "metadata": {},
   "outputs": [
    {
     "name": "stdout",
     "output_type": "stream",
     "text": [
      "Training final model...\n",
      "Model saved as 'forecasting_model.pkl'\n"
     ]
    }
   ],
   "source": [
    "# --- Final Model ---\n",
    "print(\"Training final model...\")\n",
    "final_model = XGBRegressor(\n",
    "    n_estimators=100,\n",
    "    learning_rate=0.05,\n",
    "    max_depth=5,\n",
    "    subsample=0.8,\n",
    "    colsample_bytree=0.8,\n",
    "    random_state=42\n",
    ")\n",
    "final_model.fit(X, y)\n",
    "joblib.dump(final_model, \"forecasting_model.pkl\")\n",
    "print(\"Model saved as 'forecasting_model.pkl'\")"
   ]
  }
 ],
 "metadata": {
  "kernelspec": {
   "display_name": "env",
   "language": "python",
   "name": "python3"
  },
  "language_info": {
   "codemirror_mode": {
    "name": "ipython",
    "version": 3
   },
   "file_extension": ".py",
   "mimetype": "text/x-python",
   "name": "python",
   "nbconvert_exporter": "python",
   "pygments_lexer": "ipython3",
   "version": "3.10.6"
  }
 },
 "nbformat": 4,
 "nbformat_minor": 2
}
